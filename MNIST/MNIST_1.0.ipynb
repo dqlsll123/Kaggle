{
 "cells": [
  {
   "cell_type": "code",
   "execution_count": 1,
   "metadata": {
    "collapsed": true
   },
   "outputs": [],
   "source": [
    "from numpy import * \n",
    "import pandas as pd\n",
    "import operator\n",
    "import matplotlib.pyplot as plt"
   ]
  },
  {
   "cell_type": "code",
   "execution_count": 23,
   "metadata": {
    "collapsed": true
   },
   "outputs": [],
   "source": [
    "X_train = pd.read_csv(\"train.csv\")"
   ]
  },
  {
   "cell_type": "code",
   "execution_count": 24,
   "metadata": {
    "collapsed": false
   },
   "outputs": [],
   "source": [
    "Y_train = X_train.pop(\"label\")"
   ]
  },
  {
   "cell_type": "code",
   "execution_count": 4,
   "metadata": {
    "collapsed": false
   },
   "outputs": [],
   "source": [
    "X_train_array = X_train.values"
   ]
  },
  {
   "cell_type": "code",
   "execution_count": 5,
   "metadata": {
    "collapsed": false
   },
   "outputs": [],
   "source": [
    "def display(n):\n",
    "    for i in range(len(Y_train)):\n",
    "        if(Y_train.values[i]==n):\n",
    "            plt.imshow(X_train_array[i,:].reshape(28,28),cmap ='gray')\n",
    "            plt.show()\n",
    "            break\n",
    "#1b   "
   ]
  },
  {
   "cell_type": "code",
   "execution_count": 296,
   "metadata": {
    "collapsed": false
   },
   "outputs": [
    {
     "data": {
      "image/png": "[encoded data removed]",
      "text/plain": [
       "<matplotlib.figure.Figure at 0x1cf9eb1a160>"
      ]
     },
     "metadata": {},
     "output_type": "display_data"
    }
   ],
   "source": [
    "display(9)#1b "
   ]
  },
  {
   "cell_type": "code",
   "execution_count": 149,
   "metadata": {
    "collapsed": false
   },
   "outputs": [
    {
     "data": {
      "image/png": "[encoded data removed]",
      "text/plain": [
       "<matplotlib.figure.Figure at 0x1cfb10973c8>"
      ]
     },
     "metadata": {},
     "output_type": "display_data"
    }
   ],
   "source": [
    "plt.hist(Y_train,normed=1)\n",
    "plt.ylabel('Frequency');\n",
    "plt.show()\n",
    "#1c"
   ]
  },
  {
   "cell_type": "code",
   "execution_count": 8,
   "metadata": {
    "collapsed": false
   },
   "outputs": [],
   "source": [
    "index = []\n",
    "for i in range(10):\n",
    "    for j in range(100):\n",
    "        if(Y_train[j]==i):\n",
    "            index.append(j)\n",
    "            break"
   ]
  },
  {
   "cell_type": "code",
   "execution_count": null,
   "metadata": {
    "collapsed": false
   },
   "outputs": [],
   "source": []
  },
  {
   "cell_type": "code",
   "execution_count": 11,
   "metadata": {
    "collapsed": false
   },
   "outputs": [],
   "source": [
    "\n",
    "def dist(x,y):   \n",
    "    return sqrt(sum((x-y)**2))\n",
    "\n",
    "res_index = []\n",
    "\n",
    "for i in range(10):\n",
    "    m = 100000;\n",
    "    l = 0;\n",
    "    for j in range(len(Y_train)):\n",
    "        dis = dist(X_train.values[index[i]], X_train.values[j])\n",
    "    \n",
    "        if(dis<m and index[i]!=j):\n",
    "            m = dis\n",
    "            l = j\n",
    "    res_index.append(l)"
   ]
  },
  {
   "cell_type": "code",
   "execution_count": 12,
   "metadata": {
    "collapsed": false
   },
   "outputs": [
    {
     "data": {
      "text/plain": [
       "1     0\n",
       "0     1\n",
       "16    2\n",
       "7     3\n",
       "3     4\n",
       "8     5\n",
       "21    6\n",
       "6     7\n",
       "10    8\n",
       "11    9\n",
       "Name: label, dtype: int64"
      ]
     },
     "execution_count": 12,
     "metadata": {},
     "output_type": "execute_result"
    }
   ],
   "source": [
    "Y_train[index]#real label 1d"
   ]
  },
  {
   "cell_type": "code",
   "execution_count": 13,
   "metadata": {
    "collapsed": false
   },
   "outputs": [
    {
     "data": {
      "text/plain": [
       "12950    0\n",
       "29704    1\n",
       "9536     2\n",
       "8981     5\n",
       "14787    4\n",
       "30073    5\n",
       "16240    6\n",
       "15275    7\n",
       "32586    8\n",
       "35742    9\n",
       "Name: label, dtype: int64"
      ]
     },
     "execution_count": 13,
     "metadata": {},
     "output_type": "execute_result"
    }
   ],
   "source": [
    "Y_train[res_index]# nearest label *3 is the only erroneous one 1d"
   ]
  },
  {
   "cell_type": "code",
   "execution_count": 14,
   "metadata": {
    "collapsed": false
   },
   "outputs": [],
   "source": [
    "index_0_1 = []\n",
    "for i in range(len(Y_train)):\n",
    "    if(Y_train[i]==0 or Y_train[i]==1):\n",
    "        index_0_1.append(i)\n",
    "#get index of number 0 and 1"
   ]
  },
  {
   "cell_type": "code",
   "execution_count": 81,
   "metadata": {
    "collapsed": false
   },
   "outputs": [],
   "source": []
  },
  {
   "cell_type": "code",
   "execution_count": 48,
   "metadata": {
    "collapsed": false
   },
   "outputs": [],
   "source": []
  },
  {
   "cell_type": "code",
   "execution_count": null,
   "metadata": {
    "collapsed": false
   },
   "outputs": [],
   "source": []
  },
  {
   "cell_type": "code",
   "execution_count": 17,
   "metadata": {
    "collapsed": false
   },
   "outputs": [],
   "source": [
    "#1j\n",
    "def myKNN(sample, X_train, Y_train, k):  \n",
    "    num_sample = X_train.shape[0] # shape[0] stands for the num of row  \n",
    "    \n",
    "    ## step 1: calculate Euclidean distance  \n",
    "    # tile(A, reps): Construct an array by repeating A reps times  \n",
    "    # the following copy numSamples rows for X_train  \n",
    "    diff = tile(sample, (num_sample, 1)) - X_train # Subtract element-wise  \n",
    "    squared_diff = diff ** 2 # squared for the subtract  \n",
    "    squared_dist = sum(squared_diff, axis = 1) # sum is performed by row  \n",
    "    distance = squared_dist ** 0.5  \n",
    "    \n",
    "    ## step 2: sort the distance  \n",
    "    # argsort() returns the indices that would sort an array in a ascending order  \n",
    "    sortedDistIndices = argsort(distance)  \n",
    "  \n",
    "    classCount = {} # define a dictionary (can be append element)  \n",
    "    for i in range(k):  \n",
    "        ## step 3: choose the min k distance  \n",
    "        voteLabel = Y_train[sortedDistIndices[i]]  \n",
    "  \n",
    "        ## step 4: count the times Y_train occur  \n",
    "        # when the key voteLabel is not in dictionary classCount, get()  \n",
    "        # will return 0  \n",
    "        classCount[voteLabel] = classCount.get(voteLabel, 0) + 1  \n",
    "  \n",
    "    ## step 5: the max voted class will return  \n",
    "    maxCount = 0  \n",
    "    for key, value in classCount.items():  \n",
    "        if value > maxCount:  \n",
    "            maxCount = value  \n",
    "            maxIndex = key  \n",
    "  \n",
    "    return maxIndex  "
   ]
  },
  {
   "cell_type": "code",
   "execution_count": null,
   "metadata": {
    "collapsed": false
   },
   "outputs": [],
   "source": []
  },
  {
   "cell_type": "code",
   "execution_count": null,
   "metadata": {
    "collapsed": false
   },
   "outputs": [],
   "source": [
    "\n"
   ]
  },
  {
   "cell_type": "code",
   "execution_count": null,
   "metadata": {
    "collapsed": false
   },
   "outputs": [],
   "source": []
  },
  {
   "cell_type": "code",
   "execution_count": null,
   "metadata": {
    "collapsed": false,
    "scrolled": true
   },
   "outputs": [],
   "source": []
  },
  {
   "cell_type": "code",
   "execution_count": null,
   "metadata": {
    "collapsed": false
   },
   "outputs": [],
   "source": [
    "\n"
   ]
  },
  {
   "cell_type": "code",
   "execution_count": 47,
   "metadata": {
    "collapsed": false
   },
   "outputs": [],
   "source": []
  },
  {
   "cell_type": "code",
   "execution_count": 46,
   "metadata": {
    "collapsed": false
   },
   "outputs": [],
   "source": []
  },
  {
   "cell_type": "code",
   "execution_count": 59,
   "metadata": {
    "collapsed": false
   },
   "outputs": [],
   "source": [
    "distance = array([])# 1e\n",
    "for i in range(len(index_0_1)):\n",
    "    distance = concatenate((distance,myKNNChange(X_train.values[index_0_1][i],X_train.values[index_0_1][i:],Y_train.values[index_0_1][i:])))"
   ]
  },
  {
   "cell_type": "code",
   "execution_count": null,
   "metadata": {
    "collapsed": false
   },
   "outputs": [],
   "source": []
  },
  {
   "cell_type": "code",
   "execution_count": 90,
   "metadata": {
    "collapsed": false
   },
   "outputs": [],
   "source": [
    "X_label = array([])#1e\n",
    "length = len(index_0_1)\n",
    "for i in range(len(index_0_1)):\n",
    "    X_label = concatenate((X_label,full(length-i,Y_train.values[index_0_1][i],dtype=int)))"
   ]
  },
  {
   "cell_type": "code",
   "execution_count": 179,
   "metadata": {
    "collapsed": false
   },
   "outputs": [],
   "source": [
    "Y_label = array([])#1e\n",
    "length = len(index_0_1)\n",
    "for i in range(length):\n",
    "    Y_label = concatenate((Y_label,Y_train.values[index_0_1][arange(i,length)]))"
   ]
  },
  {
   "cell_type": "code",
   "execution_count": 180,
   "metadata": {
    "collapsed": false
   },
   "outputs": [
    {
     "data": {
      "text/plain": [
       "(38865336,)"
      ]
     },
     "execution_count": 180,
     "metadata": {},
     "output_type": "execute_result"
    }
   ],
   "source": [
    "Y_label.shape"
   ]
  },
  {
   "cell_type": "code",
   "execution_count": 175,
   "metadata": {
    "collapsed": false,
    "scrolled": true
   },
   "outputs": [
    {
     "data": {
      "text/plain": [
       "(38865336,)"
      ]
     },
     "execution_count": 175,
     "metadata": {},
     "output_type": "execute_result"
    }
   ],
   "source": []
  },
  {
   "cell_type": "code",
   "execution_count": 152,
   "metadata": {
    "collapsed": false
   },
   "outputs": [
    {
     "data": {
      "image/png": "[encoded data removed]",
      "text/plain": [
       "<matplotlib.figure.Figure at 0x1d03b3f9898>"
      ]
     },
     "metadata": {},
     "output_type": "display_data"
    }
   ],
   "source": [
    "plt.hist(distance)#1e\n",
    "plt.ylabel('Frequency')\n",
    "plt.xlabel('distance')\n",
    "plt.show()"
   ]
  },
  {
   "cell_type": "code",
   "execution_count": 188,
   "metadata": {
    "collapsed": false
   },
   "outputs": [
    {
     "data": {
      "text/plain": [
       "19511048"
      ]
     },
     "execution_count": 188,
     "metadata": {},
     "output_type": "execute_result"
    }
   ],
   "source": [
    "a"
   ]
  },
  {
   "cell_type": "code",
   "execution_count": 189,
   "metadata": {
    "collapsed": false
   },
   "outputs": [],
   "source": [
    "def getRoc(x, y, distances, threshold):\n",
    "    tp = 0\n",
    "    fp = 0\n",
    "    for i in range(len(x)):\n",
    "        if(distances[i]<threshold):\n",
    "            if(x[i]==y[i]):\n",
    "                tp = tp+1\n",
    "            else:\n",
    "                fp = fp+1\n",
    "    return array([[tp/a, fp/b]])"
   ]
  },
  {
   "cell_type": "code",
   "execution_count": 185,
   "metadata": {
    "collapsed": false
   },
   "outputs": [],
   "source": [
    "a = 0\n",
    "b = 0\n",
    "for i in range(len(X_label)):\n",
    "    if(X_label[i]==Y_label[i]):\n",
    "        a=a+1\n",
    "    else:\n",
    "        b=b+1\n",
    "#get total number of genuine and impostor points"
   ]
  },
  {
   "cell_type": "code",
   "execution_count": 191,
   "metadata": {
    "collapsed": false
   },
   "outputs": [],
   "source": [
    "Roc_points = empty((0,2))\n",
    "test_dis = 1500\n",
    "for i in range(20):\n",
    "    Roc_points = append(Roc_points, getRoc(X_label, Y_label,distance,test_dis+i*150 ), axis = 0)\n",
    "#get roc points\n",
    "\n",
    "\n",
    "\n",
    "#getRoc(X_label, Y_label,distance,5000 )"
   ]
  },
  {
   "cell_type": "code",
   "execution_count": 200,
   "metadata": {
    "collapsed": false
   },
   "outputs": [
    {
     "data": {
      "image/png": "[encoded data removed]",
      "text/plain": [
       "<matplotlib.figure.Figure at 0x1d052a73cc0>"
      ]
     },
     "metadata": {},
     "output_type": "display_data"
    }
   ],
   "source": [
    "Roc_points[:,1]#1f\n",
    "plt.plot(Roc_points[:,1], Roc_points[:,0])\n",
    "plt.title('Roc Curve')\n",
    "plt.xlabel('FP')\n",
    "plt.ylabel('TP')\n",
    "plt.show()"
   ]
  },
  {
   "cell_type": "code",
   "execution_count": 216,
   "metadata": {
    "collapsed": false
   },
   "outputs": [],
   "source": [
    "  \n",
    "        \n",
    "        "
   ]
  },
  {
   "cell_type": "code",
   "execution_count": null,
   "metadata": {
    "collapsed": false
   },
   "outputs": [],
   "source": [
    "#error_rate,confuse_matrix  = threeFoldKNN(X_train, 5)"
   ]
  },
  {
   "cell_type": "code",
   "execution_count": 220,
   "metadata": {
    "collapsed": false
   },
   "outputs": [],
   "source": [
    "fold1_test = X_train.values[0:14000]\n",
    "fold2_test = X_train.values[14000:28000]\n",
    "fold3_test = X_train.values[28000:42000]\n",
    "\n",
    "fold1_trainX = X_train.values[14000:42000]\n",
    "fold2_trainX = concatenate((X_train.values[0:14000],X_train.values[28000:42000]))\n",
    "fold3_trainX = X_train.values[0:28000]\n",
    "\n",
    "fold1_trainY = Y_train.values[14000:42000]\n",
    "fold2_trainY = concatenate((Y_train.values[0:14000],Y_train.values[28000:42000]))\n",
    "fold3_trainY = Y_train.values[0:28000]"
   ]
  },
  {
   "cell_type": "code",
   "execution_count": 227,
   "metadata": {
    "collapsed": false
   },
   "outputs": [
    {
     "data": {
      "text/plain": [
       "(28000,)"
      ]
     },
     "execution_count": 227,
     "metadata": {},
     "output_type": "execute_result"
    }
   ],
   "source": [
    "fold3_trainY.shape"
   ]
  },
  {
   "cell_type": "code",
   "execution_count": 230,
   "metadata": {
    "collapsed": false
   },
   "outputs": [],
   "source": [
    "confuse_matrix = zeros((10,10))\n",
    "error_rate = []\n",
    "length = int(X_train.values.shape[0]/3)"
   ]
  },
  {
   "cell_type": "code",
   "execution_count": 235,
   "metadata": {
    "collapsed": false
   },
   "outputs": [],
   "source": [
    "time1 = 0\n",
    "for i in range(length):\n",
    "    test_label = myKNN(fold1_test[i], fold1_trainX, fold1_trainY, 5)\n",
    "    if(Y_train[i]==test_label):\n",
    "                time1 += 1\n",
    "    confuse_matrix[Y_train[i]][test_label] += 1\n",
    "    "
   ]
  },
  {
   "cell_type": "code",
   "execution_count": 240,
   "metadata": {
    "collapsed": false
   },
   "outputs": [],
   "source": [
    "confuse_matrix2 = confuse_matrix\n",
    "time2 = 0\n",
    "for i in range(length):\n",
    "    test_label = myKNN(fold2_test[i], fold2_trainX, fold2_trainY, 5)\n",
    "    if(Y_train[i+14000]==test_label):\n",
    "                time2 += 1\n",
    "    confuse_matrix2[Y_train[i+14000]][test_label] += 1"
   ]
  },
  {
   "cell_type": "code",
   "execution_count": 245,
   "metadata": {
    "collapsed": false
   },
   "outputs": [
    {
     "data": {
      "text/plain": [
       "13504"
      ]
     },
     "execution_count": 245,
     "metadata": {},
     "output_type": "execute_result"
    }
   ],
   "source": [
    "time2"
   ]
  },
  {
   "cell_type": "code",
   "execution_count": 246,
   "metadata": {
    "collapsed": true
   },
   "outputs": [],
   "source": [
    "confuse_matrix3 = confuse_matrix2\n",
    "time3 = 0\n",
    "for i in range(length):\n",
    "    test_label = myKNN(fold3_test[i], fold3_trainX, fold3_trainY, 5)\n",
    "    if(Y_train[i+28000]==test_label):\n",
    "                time3 += 1\n",
    "    confuse_matrix3[Y_train[i+28000]][test_label] += 1"
   ]
  },
  {
   "cell_type": "code",
   "execution_count": 251,
   "metadata": {
    "collapsed": false
   },
   "outputs": [
    {
     "data": {
      "text/plain": [
       "array([[  4.10700000e+03,   1.00000000e+00,   4.00000000e+00,\n",
       "          0.00000000e+00,   0.00000000e+00,   6.00000000e+00,\n",
       "          1.30000000e+01,   3.00000000e+00,   1.00000000e+00,\n",
       "          2.00000000e+00],\n",
       "       [  0.00000000e+00,   4.66000000e+03,   9.00000000e+00,\n",
       "          1.00000000e+00,   2.00000000e+00,   1.00000000e+00,\n",
       "          3.00000000e+00,   8.00000000e+00,   1.00000000e+00,\n",
       "          3.00000000e+00],\n",
       "       [  2.90000000e+01,   5.20000000e+01,   3.97200000e+03,\n",
       "          1.70000000e+01,   3.00000000e+00,   4.00000000e+00,\n",
       "          4.00000000e+00,   8.30000000e+01,   1.10000000e+01,\n",
       "          5.00000000e+00],\n",
       "       [  3.00000000e+00,   1.10000000e+01,   2.60000000e+01,\n",
       "          4.19200000e+03,   0.00000000e+00,   4.70000000e+01,\n",
       "          3.00000000e+00,   2.70000000e+01,   2.70000000e+01,\n",
       "          2.00000000e+01],\n",
       "       [  2.00000000e+00,   4.90000000e+01,   0.00000000e+00,\n",
       "          0.00000000e+00,   3.90000000e+03,   0.00000000e+00,\n",
       "          1.60000000e+01,   8.00000000e+00,   2.00000000e+00,\n",
       "          9.60000000e+01],\n",
       "       [  1.00000000e+01,   5.00000000e+00,   1.00000000e+00,\n",
       "          6.30000000e+01,   3.00000000e+00,   3.62900000e+03,\n",
       "          5.00000000e+01,   5.00000000e+00,   6.00000000e+00,\n",
       "          2.50000000e+01],\n",
       "       [  2.20000000e+01,   7.00000000e+00,   1.00000000e+00,\n",
       "          0.00000000e+00,   4.00000000e+00,   1.80000000e+01,\n",
       "          4.08600000e+03,   0.00000000e+00,   1.00000000e+00,\n",
       "          0.00000000e+00],\n",
       "       [  2.00000000e+00,   5.90000000e+01,   1.10000000e+01,\n",
       "          3.00000000e+00,   1.10000000e+01,   0.00000000e+00,\n",
       "          0.00000000e+00,   4.26900000e+03,   0.00000000e+00,\n",
       "          4.80000000e+01],\n",
       "       [  1.40000000e+01,   4.70000000e+01,   1.40000000e+01,\n",
       "          6.20000000e+01,   1.40000000e+01,   6.50000000e+01,\n",
       "          2.00000000e+01,   1.30000000e+01,   3.76700000e+03,\n",
       "          4.90000000e+01],\n",
       "       [  1.40000000e+01,   9.00000000e+00,   3.00000000e+00,\n",
       "          3.10000000e+01,   4.10000000e+01,   9.00000000e+00,\n",
       "          2.00000000e+00,   6.60000000e+01,   1.40000000e+01,\n",
       "          4.00000000e+03]])"
      ]
     },
     "execution_count": 251,
     "metadata": {},
     "output_type": "execute_result"
    }
   ],
   "source": [
    "confuse_matrix3"
   ]
  },
  {
   "cell_type": "code",
   "execution_count": 261,
   "metadata": {
    "collapsed": false
   },
   "outputs": [],
   "source": [
    "average_error = (time1+time2+time3)/len(X_train)"
   ]
  },
  {
   "cell_type": "code",
   "execution_count": 262,
   "metadata": {
    "collapsed": false
   },
   "outputs": [
    {
     "data": {
      "text/plain": [
       "0.9655952380952381"
      ]
     },
     "execution_count": 262,
     "metadata": {},
     "output_type": "execute_result"
    }
   ],
   "source": [
    "average_error#1h"
   ]
  },
  {
   "cell_type": "code",
   "execution_count": 259,
   "metadata": {
    "collapsed": false
   },
   "outputs": [],
   "source": [
    "confuse_matrix45=array(confuse_matrix4,dtype=int32)  "
   ]
  },
  {
   "cell_type": "code",
   "execution_count": 260,
   "metadata": {
    "collapsed": false
   },
   "outputs": [
    {
     "data": {
      "text/plain": [
       "array([[4102,    1,    4,    0,    0,    6,   13,    3,    1,    2],\n",
       "       [   0, 4656,    9,    1,    2,    1,    3,    8,    1,    3],\n",
       "       [  29,   52, 3969,   17,    3,    4,    4,   83,   11,    5],\n",
       "       [   3,   11,   26, 4187,    0,   47,    3,   27,   27,   20],\n",
       "       [   2,   49,    0,    0, 3899,    0,   16,    8,    2,   96],\n",
       "       [  10,    5,    1,   63,    3, 3627,   50,    5,    6,   25],\n",
       "       [  22,    7,    1,    0,    4,   18, 4084,    0,    1,    0],\n",
       "       [   2,   59,   11,    3,   11,    0,    0, 4267,    0,   48],\n",
       "       [  14,   47,   14,   62,   14,   65,   20,   13, 3765,   49],\n",
       "       [  14,    9,    3,   31,   41,    9,    2,   66,   14, 3999]])"
      ]
     },
     "execution_count": 260,
     "metadata": {},
     "output_type": "execute_result"
    }
   ],
   "source": [
    "confuse_matrix45#1i"
   ]
  },
  {
   "cell_type": "code",
   "execution_count": 263,
   "metadata": {
    "collapsed": false
   },
   "outputs": [
    {
     "data": {
      "text/plain": [
       "4132"
      ]
     },
     "execution_count": 263,
     "metadata": {},
     "output_type": "execute_result"
    }
   ],
   "source": [
    "sum(confuse_matrix45[0])"
   ]
  },
  {
   "cell_type": "code",
   "execution_count": 273,
   "metadata": {
    "collapsed": false
   },
   "outputs": [],
   "source": [
    "confuse_matrix_rate = zeros((10,10))\n",
    "for i in range(10):\n",
    "    for j in range(10):\n",
    "        confuse_matrix_rate[j][i] = round(confuse_matrix45[j][i]/sum(confuse_matrix45[i]),3)"
   ]
  },
  {
   "cell_type": "code",
   "execution_count": 274,
   "metadata": {
    "collapsed": false
   },
   "outputs": [
    {
     "data": {
      "text/plain": [
       "array([[ 0.993,  0.   ,  0.001,  0.   ,  0.   ,  0.002,  0.003,  0.001,\n",
       "         0.   ,  0.   ],\n",
       "       [ 0.   ,  0.994,  0.002,  0.   ,  0.   ,  0.   ,  0.001,  0.002,\n",
       "         0.   ,  0.001],\n",
       "       [ 0.007,  0.011,  0.95 ,  0.004,  0.001,  0.001,  0.001,  0.019,\n",
       "         0.003,  0.001],\n",
       "       [ 0.001,  0.002,  0.006,  0.962,  0.   ,  0.012,  0.001,  0.006,\n",
       "         0.007,  0.005],\n",
       "       [ 0.   ,  0.01 ,  0.   ,  0.   ,  0.958,  0.   ,  0.004,  0.002,\n",
       "         0.   ,  0.023],\n",
       "       [ 0.002,  0.001,  0.   ,  0.014,  0.001,  0.956,  0.012,  0.001,\n",
       "         0.001,  0.006],\n",
       "       [ 0.005,  0.001,  0.   ,  0.   ,  0.001,  0.005,  0.987,  0.   ,\n",
       "         0.   ,  0.   ],\n",
       "       [ 0.   ,  0.013,  0.003,  0.001,  0.003,  0.   ,  0.   ,  0.97 ,\n",
       "         0.   ,  0.011],\n",
       "       [ 0.003,  0.01 ,  0.003,  0.014,  0.003,  0.017,  0.005,  0.003,\n",
       "         0.927,  0.012],\n",
       "       [ 0.003,  0.002,  0.001,  0.007,  0.01 ,  0.002,  0.   ,  0.015,\n",
       "         0.003,  0.955]])"
      ]
     },
     "execution_count": 274,
     "metadata": {},
     "output_type": "execute_result"
    }
   ],
   "source": [
    "confuse_matrix_rate"
   ]
  },
  {
   "cell_type": "code",
   "execution_count": 275,
   "metadata": {
    "collapsed": true
   },
   "outputs": [],
   "source": [
    "confuse_matrix_rate_df = pd.DataFrame(confuse_matrix_rate)  "
   ]
  },
  {
   "cell_type": "code",
   "execution_count": 276,
   "metadata": {
    "collapsed": false
   },
   "outputs": [
    {
     "data": {
      "text/html": [
       "<div>\n",
       "<table border=\"1\" class=\"dataframe\">\n",
       "  <thead>\n",
       "    <tr style=\"text-align: right;\">\n",
       "      <th></th>\n",
       "      <th>0</th>\n",
       "      <th>1</th>\n",
       "      <th>2</th>\n",
       "      <th>3</th>\n",
       "      <th>4</th>\n",
       "      <th>5</th>\n",
       "      <th>6</th>\n",
       "      <th>7</th>\n",
       "      <th>8</th>\n",
       "      <th>9</th>\n",
       "    </tr>\n",
       "  </thead>\n",
       "  <tbody>\n",
       "    <tr>\n",
       "      <th>0</th>\n",
       "      <td>0.993</td>\n",
       "      <td>0.000</td>\n",
       "      <td>0.001</td>\n",
       "      <td>0.000</td>\n",
       "      <td>0.000</td>\n",
       "      <td>0.002</td>\n",
       "      <td>0.003</td>\n",
       "      <td>0.001</td>\n",
       "      <td>0.000</td>\n",
       "      <td>0.000</td>\n",
       "    </tr>\n",
       "    <tr>\n",
       "      <th>1</th>\n",
       "      <td>0.000</td>\n",
       "      <td>0.994</td>\n",
       "      <td>0.002</td>\n",
       "      <td>0.000</td>\n",
       "      <td>0.000</td>\n",
       "      <td>0.000</td>\n",
       "      <td>0.001</td>\n",
       "      <td>0.002</td>\n",
       "      <td>0.000</td>\n",
       "      <td>0.001</td>\n",
       "    </tr>\n",
       "    <tr>\n",
       "      <th>2</th>\n",
       "      <td>0.007</td>\n",
       "      <td>0.011</td>\n",
       "      <td>0.950</td>\n",
       "      <td>0.004</td>\n",
       "      <td>0.001</td>\n",
       "      <td>0.001</td>\n",
       "      <td>0.001</td>\n",
       "      <td>0.019</td>\n",
       "      <td>0.003</td>\n",
       "      <td>0.001</td>\n",
       "    </tr>\n",
       "    <tr>\n",
       "      <th>3</th>\n",
       "      <td>0.001</td>\n",
       "      <td>0.002</td>\n",
       "      <td>0.006</td>\n",
       "      <td>0.962</td>\n",
       "      <td>0.000</td>\n",
       "      <td>0.012</td>\n",
       "      <td>0.001</td>\n",
       "      <td>0.006</td>\n",
       "      <td>0.007</td>\n",
       "      <td>0.005</td>\n",
       "    </tr>\n",
       "    <tr>\n",
       "      <th>4</th>\n",
       "      <td>0.000</td>\n",
       "      <td>0.010</td>\n",
       "      <td>0.000</td>\n",
       "      <td>0.000</td>\n",
       "      <td>0.958</td>\n",
       "      <td>0.000</td>\n",
       "      <td>0.004</td>\n",
       "      <td>0.002</td>\n",
       "      <td>0.000</td>\n",
       "      <td>0.023</td>\n",
       "    </tr>\n",
       "    <tr>\n",
       "      <th>5</th>\n",
       "      <td>0.002</td>\n",
       "      <td>0.001</td>\n",
       "      <td>0.000</td>\n",
       "      <td>0.014</td>\n",
       "      <td>0.001</td>\n",
       "      <td>0.956</td>\n",
       "      <td>0.012</td>\n",
       "      <td>0.001</td>\n",
       "      <td>0.001</td>\n",
       "      <td>0.006</td>\n",
       "    </tr>\n",
       "    <tr>\n",
       "      <th>6</th>\n",
       "      <td>0.005</td>\n",
       "      <td>0.001</td>\n",
       "      <td>0.000</td>\n",
       "      <td>0.000</td>\n",
       "      <td>0.001</td>\n",
       "      <td>0.005</td>\n",
       "      <td>0.987</td>\n",
       "      <td>0.000</td>\n",
       "      <td>0.000</td>\n",
       "      <td>0.000</td>\n",
       "    </tr>\n",
       "    <tr>\n",
       "      <th>7</th>\n",
       "      <td>0.000</td>\n",
       "      <td>0.013</td>\n",
       "      <td>0.003</td>\n",
       "      <td>0.001</td>\n",
       "      <td>0.003</td>\n",
       "      <td>0.000</td>\n",
       "      <td>0.000</td>\n",
       "      <td>0.970</td>\n",
       "      <td>0.000</td>\n",
       "      <td>0.011</td>\n",
       "    </tr>\n",
       "    <tr>\n",
       "      <th>8</th>\n",
       "      <td>0.003</td>\n",
       "      <td>0.010</td>\n",
       "      <td>0.003</td>\n",
       "      <td>0.014</td>\n",
       "      <td>0.003</td>\n",
       "      <td>0.017</td>\n",
       "      <td>0.005</td>\n",
       "      <td>0.003</td>\n",
       "      <td>0.927</td>\n",
       "      <td>0.012</td>\n",
       "    </tr>\n",
       "    <tr>\n",
       "      <th>9</th>\n",
       "      <td>0.003</td>\n",
       "      <td>0.002</td>\n",
       "      <td>0.001</td>\n",
       "      <td>0.007</td>\n",
       "      <td>0.010</td>\n",
       "      <td>0.002</td>\n",
       "      <td>0.000</td>\n",
       "      <td>0.015</td>\n",
       "      <td>0.003</td>\n",
       "      <td>0.955</td>\n",
       "    </tr>\n",
       "  </tbody>\n",
       "</table>\n",
       "</div>"
      ],
      "text/plain": [
       "       0      1      2      3      4      5      6      7      8      9\n",
       "0  0.993  0.000  0.001  0.000  0.000  0.002  0.003  0.001  0.000  0.000\n",
       "1  0.000  0.994  0.002  0.000  0.000  0.000  0.001  0.002  0.000  0.001\n",
       "2  0.007  0.011  0.950  0.004  0.001  0.001  0.001  0.019  0.003  0.001\n",
       "3  0.001  0.002  0.006  0.962  0.000  0.012  0.001  0.006  0.007  0.005\n",
       "4  0.000  0.010  0.000  0.000  0.958  0.000  0.004  0.002  0.000  0.023\n",
       "5  0.002  0.001  0.000  0.014  0.001  0.956  0.012  0.001  0.001  0.006\n",
       "6  0.005  0.001  0.000  0.000  0.001  0.005  0.987  0.000  0.000  0.000\n",
       "7  0.000  0.013  0.003  0.001  0.003  0.000  0.000  0.970  0.000  0.011\n",
       "8  0.003  0.010  0.003  0.014  0.003  0.017  0.005  0.003  0.927  0.012\n",
       "9  0.003  0.002  0.001  0.007  0.010  0.002  0.000  0.015  0.003  0.955"
      ]
     },
     "execution_count": 276,
     "metadata": {},
     "output_type": "execute_result"
    }
   ],
   "source": [
    "confuse_matrix_rate_df#from the dataframe, 8 is the most difficult one to recognize"
   ]
  },
  {
   "cell_type": "code",
   "execution_count": 277,
   "metadata": {
    "collapsed": true
   },
   "outputs": [],
   "source": [
    "X_test = pd.read_csv(\"test.csv\")"
   ]
  },
  {
   "cell_type": "code",
   "execution_count": 278,
   "metadata": {
    "collapsed": false
   },
   "outputs": [
    {
     "data": {
      "text/html": [
       "<div>\n",
       "<table border=\"1\" class=\"dataframe\">\n",
       "  <thead>\n",
       "    <tr style=\"text-align: right;\">\n",
       "      <th></th>\n",
       "      <th>pixel0</th>\n",
       "      <th>pixel1</th>\n",
       "      <th>pixel2</th>\n",
       "      <th>pixel3</th>\n",
       "      <th>pixel4</th>\n",
       "      <th>pixel5</th>\n",
       "      <th>pixel6</th>\n",
       "      <th>pixel7</th>\n",
       "      <th>pixel8</th>\n",
       "      <th>pixel9</th>\n",
       "      <th>...</th>\n",
       "      <th>pixel774</th>\n",
       "      <th>pixel775</th>\n",
       "      <th>pixel776</th>\n",
       "      <th>pixel777</th>\n",
       "      <th>pixel778</th>\n",
       "      <th>pixel779</th>\n",
       "      <th>pixel780</th>\n",
       "      <th>pixel781</th>\n",
       "      <th>pixel782</th>\n",
       "      <th>pixel783</th>\n",
       "    </tr>\n",
       "  </thead>\n",
       "  <tbody>\n",
       "    <tr>\n",
       "      <th>count</th>\n",
       "      <td>28000.0</td>\n",
       "      <td>28000.0</td>\n",
       "      <td>28000.0</td>\n",
       "      <td>28000.0</td>\n",
       "      <td>28000.0</td>\n",
       "      <td>28000.0</td>\n",
       "      <td>28000.0</td>\n",
       "      <td>28000.0</td>\n",
       "      <td>28000.0</td>\n",
       "      <td>28000.0</td>\n",
       "      <td>...</td>\n",
       "      <td>28000.000000</td>\n",
       "      <td>28000.000000</td>\n",
       "      <td>28000.000000</td>\n",
       "      <td>28000.000000</td>\n",
       "      <td>28000.000000</td>\n",
       "      <td>28000.0</td>\n",
       "      <td>28000.0</td>\n",
       "      <td>28000.0</td>\n",
       "      <td>28000.0</td>\n",
       "      <td>28000.0</td>\n",
       "    </tr>\n",
       "    <tr>\n",
       "      <th>mean</th>\n",
       "      <td>0.0</td>\n",
       "      <td>0.0</td>\n",
       "      <td>0.0</td>\n",
       "      <td>0.0</td>\n",
       "      <td>0.0</td>\n",
       "      <td>0.0</td>\n",
       "      <td>0.0</td>\n",
       "      <td>0.0</td>\n",
       "      <td>0.0</td>\n",
       "      <td>0.0</td>\n",
       "      <td>...</td>\n",
       "      <td>0.164607</td>\n",
       "      <td>0.073214</td>\n",
       "      <td>0.028036</td>\n",
       "      <td>0.011250</td>\n",
       "      <td>0.006536</td>\n",
       "      <td>0.0</td>\n",
       "      <td>0.0</td>\n",
       "      <td>0.0</td>\n",
       "      <td>0.0</td>\n",
       "      <td>0.0</td>\n",
       "    </tr>\n",
       "    <tr>\n",
       "      <th>std</th>\n",
       "      <td>0.0</td>\n",
       "      <td>0.0</td>\n",
       "      <td>0.0</td>\n",
       "      <td>0.0</td>\n",
       "      <td>0.0</td>\n",
       "      <td>0.0</td>\n",
       "      <td>0.0</td>\n",
       "      <td>0.0</td>\n",
       "      <td>0.0</td>\n",
       "      <td>0.0</td>\n",
       "      <td>...</td>\n",
       "      <td>5.473293</td>\n",
       "      <td>3.616811</td>\n",
       "      <td>1.813602</td>\n",
       "      <td>1.205211</td>\n",
       "      <td>0.807475</td>\n",
       "      <td>0.0</td>\n",
       "      <td>0.0</td>\n",
       "      <td>0.0</td>\n",
       "      <td>0.0</td>\n",
       "      <td>0.0</td>\n",
       "    </tr>\n",
       "    <tr>\n",
       "      <th>min</th>\n",
       "      <td>0.0</td>\n",
       "      <td>0.0</td>\n",
       "      <td>0.0</td>\n",
       "      <td>0.0</td>\n",
       "      <td>0.0</td>\n",
       "      <td>0.0</td>\n",
       "      <td>0.0</td>\n",
       "      <td>0.0</td>\n",
       "      <td>0.0</td>\n",
       "      <td>0.0</td>\n",
       "      <td>...</td>\n",
       "      <td>0.000000</td>\n",
       "      <td>0.000000</td>\n",
       "      <td>0.000000</td>\n",
       "      <td>0.000000</td>\n",
       "      <td>0.000000</td>\n",
       "      <td>0.0</td>\n",
       "      <td>0.0</td>\n",
       "      <td>0.0</td>\n",
       "      <td>0.0</td>\n",
       "      <td>0.0</td>\n",
       "    </tr>\n",
       "    <tr>\n",
       "      <th>25%</th>\n",
       "      <td>0.0</td>\n",
       "      <td>0.0</td>\n",
       "      <td>0.0</td>\n",
       "      <td>0.0</td>\n",
       "      <td>0.0</td>\n",
       "      <td>0.0</td>\n",
       "      <td>0.0</td>\n",
       "      <td>0.0</td>\n",
       "      <td>0.0</td>\n",
       "      <td>0.0</td>\n",
       "      <td>...</td>\n",
       "      <td>0.000000</td>\n",
       "      <td>0.000000</td>\n",
       "      <td>0.000000</td>\n",
       "      <td>0.000000</td>\n",
       "      <td>0.000000</td>\n",
       "      <td>0.0</td>\n",
       "      <td>0.0</td>\n",
       "      <td>0.0</td>\n",
       "      <td>0.0</td>\n",
       "      <td>0.0</td>\n",
       "    </tr>\n",
       "    <tr>\n",
       "      <th>50%</th>\n",
       "      <td>0.0</td>\n",
       "      <td>0.0</td>\n",
       "      <td>0.0</td>\n",
       "      <td>0.0</td>\n",
       "      <td>0.0</td>\n",
       "      <td>0.0</td>\n",
       "      <td>0.0</td>\n",
       "      <td>0.0</td>\n",
       "      <td>0.0</td>\n",
       "      <td>0.0</td>\n",
       "      <td>...</td>\n",
       "      <td>0.000000</td>\n",
       "      <td>0.000000</td>\n",
       "      <td>0.000000</td>\n",
       "      <td>0.000000</td>\n",
       "      <td>0.000000</td>\n",
       "      <td>0.0</td>\n",
       "      <td>0.0</td>\n",
       "      <td>0.0</td>\n",
       "      <td>0.0</td>\n",
       "      <td>0.0</td>\n",
       "    </tr>\n",
       "    <tr>\n",
       "      <th>75%</th>\n",
       "      <td>0.0</td>\n",
       "      <td>0.0</td>\n",
       "      <td>0.0</td>\n",
       "      <td>0.0</td>\n",
       "      <td>0.0</td>\n",
       "      <td>0.0</td>\n",
       "      <td>0.0</td>\n",
       "      <td>0.0</td>\n",
       "      <td>0.0</td>\n",
       "      <td>0.0</td>\n",
       "      <td>...</td>\n",
       "      <td>0.000000</td>\n",
       "      <td>0.000000</td>\n",
       "      <td>0.000000</td>\n",
       "      <td>0.000000</td>\n",
       "      <td>0.000000</td>\n",
       "      <td>0.0</td>\n",
       "      <td>0.0</td>\n",
       "      <td>0.0</td>\n",
       "      <td>0.0</td>\n",
       "      <td>0.0</td>\n",
       "    </tr>\n",
       "    <tr>\n",
       "      <th>max</th>\n",
       "      <td>0.0</td>\n",
       "      <td>0.0</td>\n",
       "      <td>0.0</td>\n",
       "      <td>0.0</td>\n",
       "      <td>0.0</td>\n",
       "      <td>0.0</td>\n",
       "      <td>0.0</td>\n",
       "      <td>0.0</td>\n",
       "      <td>0.0</td>\n",
       "      <td>0.0</td>\n",
       "      <td>...</td>\n",
       "      <td>253.000000</td>\n",
       "      <td>254.000000</td>\n",
       "      <td>193.000000</td>\n",
       "      <td>187.000000</td>\n",
       "      <td>119.000000</td>\n",
       "      <td>0.0</td>\n",
       "      <td>0.0</td>\n",
       "      <td>0.0</td>\n",
       "      <td>0.0</td>\n",
       "      <td>0.0</td>\n",
       "    </tr>\n",
       "  </tbody>\n",
       "</table>\n",
       "<p>8 rows × 784 columns</p>\n",
       "</div>"
      ],
      "text/plain": [
       "        pixel0   pixel1   pixel2   pixel3   pixel4   pixel5   pixel6   pixel7  \\\n",
       "count  28000.0  28000.0  28000.0  28000.0  28000.0  28000.0  28000.0  28000.0   \n",
       "mean       0.0      0.0      0.0      0.0      0.0      0.0      0.0      0.0   \n",
       "std        0.0      0.0      0.0      0.0      0.0      0.0      0.0      0.0   \n",
       "min        0.0      0.0      0.0      0.0      0.0      0.0      0.0      0.0   \n",
       "25%        0.0      0.0      0.0      0.0      0.0      0.0      0.0      0.0   \n",
       "50%        0.0      0.0      0.0      0.0      0.0      0.0      0.0      0.0   \n",
       "75%        0.0      0.0      0.0      0.0      0.0      0.0      0.0      0.0   \n",
       "max        0.0      0.0      0.0      0.0      0.0      0.0      0.0      0.0   \n",
       "\n",
       "        pixel8   pixel9    ...         pixel774      pixel775      pixel776  \\\n",
       "count  28000.0  28000.0    ...     28000.000000  28000.000000  28000.000000   \n",
       "mean       0.0      0.0    ...         0.164607      0.073214      0.028036   \n",
       "std        0.0      0.0    ...         5.473293      3.616811      1.813602   \n",
       "min        0.0      0.0    ...         0.000000      0.000000      0.000000   \n",
       "25%        0.0      0.0    ...         0.000000      0.000000      0.000000   \n",
       "50%        0.0      0.0    ...         0.000000      0.000000      0.000000   \n",
       "75%        0.0      0.0    ...         0.000000      0.000000      0.000000   \n",
       "max        0.0      0.0    ...       253.000000    254.000000    193.000000   \n",
       "\n",
       "           pixel777      pixel778  pixel779  pixel780  pixel781  pixel782  \\\n",
       "count  28000.000000  28000.000000   28000.0   28000.0   28000.0   28000.0   \n",
       "mean       0.011250      0.006536       0.0       0.0       0.0       0.0   \n",
       "std        1.205211      0.807475       0.0       0.0       0.0       0.0   \n",
       "min        0.000000      0.000000       0.0       0.0       0.0       0.0   \n",
       "25%        0.000000      0.000000       0.0       0.0       0.0       0.0   \n",
       "50%        0.000000      0.000000       0.0       0.0       0.0       0.0   \n",
       "75%        0.000000      0.000000       0.0       0.0       0.0       0.0   \n",
       "max      187.000000    119.000000       0.0       0.0       0.0       0.0   \n",
       "\n",
       "       pixel783  \n",
       "count   28000.0  \n",
       "mean        0.0  \n",
       "std         0.0  \n",
       "min         0.0  \n",
       "25%         0.0  \n",
       "50%         0.0  \n",
       "75%         0.0  \n",
       "max         0.0  \n",
       "\n",
       "[8 rows x 784 columns]"
      ]
     },
     "execution_count": 278,
     "metadata": {},
     "output_type": "execute_result"
    }
   ],
   "source": [
    "X_test.describe()"
   ]
  },
  {
   "cell_type": "code",
   "execution_count": 281,
   "metadata": {
    "collapsed": true
   },
   "outputs": [],
   "source": [
    "Y_test = zeros((len(X_test)))"
   ]
  },
  {
   "cell_type": "code",
   "execution_count": 283,
   "metadata": {
    "collapsed": false
   },
   "outputs": [],
   "source": [
    "for i in range(len(X_test)):\n",
    "    Y_test[i] = myKNN(X_test.values[i], X_train.values, Y_train.values, 10)\n",
    "\n"
   ]
  },
  {
   "cell_type": "code",
   "execution_count": 284,
   "metadata": {
    "collapsed": false
   },
   "outputs": [
    {
     "data": {
      "text/plain": [
       "(28000,)"
      ]
     },
     "execution_count": 284,
     "metadata": {},
     "output_type": "execute_result"
    }
   ],
   "source": [
    "Y_test.shape"
   ]
  },
  {
   "cell_type": "code",
   "execution_count": 286,
   "metadata": {
    "collapsed": false
   },
   "outputs": [],
   "source": [
    "index = arange(1, 28001)\n",
    "result= pd.DataFrame(Y_test,columns=['Label'])\n",
    "result.insert(0,'ImageId',index)\n",
    "\n",
    "result.to_csv('KNN.csv',index= False)#1j"
   ]
  },
  {
   "cell_type": "code",
   "execution_count": null,
   "metadata": {
    "collapsed": true
   },
   "outputs": [],
   "source": []
  }
 ],
 "metadata": {
  "kernelspec": {
   "display_name": "Python 3",
   "language": "python",
   "name": "python3"
  },
  "language_info": {
   "codemirror_mode": {
    "name": "ipython",
    "version": 3
   },
   "file_extension": ".py",
   "mimetype": "text/x-python",
   "name": "python",
   "nbconvert_exporter": "python",
   "pygments_lexer": "ipython3",
   "version": "3.6.0"
  }
 },
 "nbformat": 4,
 "nbformat_minor": 2
}
